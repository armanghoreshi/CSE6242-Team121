{
 "cells": [
  {
   "cell_type": "code",
   "execution_count": 1,
   "metadata": {},
   "outputs": [],
   "source": [
    "import pandas as pd"
   ]
  },
  {
   "cell_type": "markdown",
   "metadata": {},
   "source": [
    "### Urban County Per State\n",
    "\n",
    "Identify one county per state as the main metro area using:\n",
    "1. Population Density\n",
    "2. Housing Density"
   ]
  },
  {
   "cell_type": "code",
   "execution_count": 2,
   "metadata": {},
   "outputs": [],
   "source": [
    "# import the data\n",
    "county_df = pd.read_excel('./Input_Data/2020_UA_COUNTY.xlsx', dtype={\"COUNTY\": str})"
   ]
  },
  {
   "cell_type": "code",
   "execution_count": 3,
   "metadata": {},
   "outputs": [],
   "source": [
    "# clean the dataset\n",
    "columns = ['STATE', 'COUNTY', 'STATE_NAME', 'COUNTY_NAME', 'POPDEN_COU', 'HOUDEN_COU']\n",
    "county_clean_df = county_df[columns].copy()\n",
    "county_clean_df['COUNTY_FIPS_CODE'] = county_clean_df['STATE'].astype(str) + county_clean_df['COUNTY']\n",
    "county_clean_df['COUNTY_FIPS_CODE'] = county_clean_df['COUNTY_FIPS_CODE'].astype(int)\n",
    "county_clean_df['COUNTY_NAME'] = county_clean_df['COUNTY_NAME'].str.replace(' *', '', regex=False).str.strip()\n",
    "\n",
    "\n",
    "values_to_remove = ['Alaska', 'Hawaii', 'American Samoa', 'Guam', 'Commonwealth of the Northern Marianas', 'Puerto Rico', 'US Virgin Islands']\n",
    "county_clean_df = county_clean_df[~county_clean_df['STATE_NAME'].isin(values_to_remove)]"
   ]
  },
  {
   "cell_type": "code",
   "execution_count": 4,
   "metadata": {},
   "outputs": [],
   "source": [
    "# find top urban center per state\n",
    "county_clean_df['combined_density'] = county_clean_df['POPDEN_COU'] + county_clean_df['HOUDEN_COU']\n",
    "county_clean_df['TOP_METRO'] = county_clean_df.groupby('STATE')['combined_density'].transform(lambda x: x == x.max())\n",
    "county_clean_df.drop(columns='combined_density', inplace=True)"
   ]
  },
  {
   "cell_type": "markdown",
   "metadata": {},
   "source": [
    "### County Adjacency\n",
    "\n",
    "Identify level 1-5 of adjacent counties to the top metro counties defined above\n"
   ]
  },
  {
   "cell_type": "code",
   "execution_count": 5,
   "metadata": {},
   "outputs": [],
   "source": [
    "# graph class\n",
    "class Graph:\n",
    "    def __init__(self):\n",
    "        self.adjacency_list = {}\n",
    "\n",
    "    def add_node(self, node):\n",
    "        if node not in self.adjacency_list:\n",
    "            self.adjacency_list[node] = []\n",
    "\n",
    "    def add_edge(self, node1, node2):\n",
    "        if node1 == node2:\n",
    "            return\n",
    "\n",
    "        if node1 not in self.adjacency_list:\n",
    "            self.add_node(node1)\n",
    "        if node2 not in self.adjacency_list:\n",
    "            self.add_node(node2)\n",
    "        \n",
    "        if node2 not in self.adjacency_list[node1]:\n",
    "            self.adjacency_list[node1].append(node2)\n",
    "        if node1 not in self.adjacency_list[node2]:\n",
    "            self.adjacency_list[node2].append(node1)\n",
    "\n",
    "    def remove_node(self, node):\n",
    "        if node in self.adjacency_list:\n",
    "            for neighbor in self.adjacency_list[node]:\n",
    "                self.adjacency_list[neighbor].remove(node)\n",
    "            del self.adjacency_list[node]\n",
    "\n",
    "    def remove_edge(self, node1, node2):\n",
    "        if node1 in self.adjacency_list and node2 in self.adjacency_list:\n",
    "            self.adjacency_list[node1].remove(node2)\n",
    "            self.adjacency_list[node2].remove(node1)\n",
    "\n",
    "    def get_neighbors(self, node):\n",
    "        return self.adjacency_list.get(node, [])\n",
    "    \n",
    "    def get_nodes(self):\n",
    "        return list(self.adjacency_list.keys())\n",
    "\n",
    "    def display(self):\n",
    "        for node, neighbors in self.adjacency_list.items():\n",
    "            print(f\"{node}: {neighbors}\")\n"
   ]
  },
  {
   "cell_type": "code",
   "execution_count": 6,
   "metadata": {},
   "outputs": [],
   "source": [
    "# building the graph\n",
    "county_adjacency_df = pd.read_csv('./Input_Data/county_adjacency2024.txt', sep=\"|\")\n",
    "\n",
    "graph = Graph()\n",
    "edges = zip(county_adjacency_df['County GEOID'], county_adjacency_df['Neighbor GEOID'])\n",
    "for county_fips, neighbor_fips in edges:\n",
    "    graph.add_edge(county_fips, neighbor_fips)\n",
    "\n",
    "\n",
    "# Step 1: Get the list of FIPS codes where TOP_METRO is True\n",
    "top_metro_fips = county_clean_df[county_clean_df['TOP_METRO']]['COUNTY_FIPS_CODE'].tolist()\n",
    "\n",
    "# Step 2: Initialize a list to store results\n",
    "results = []\n",
    "\n",
    "# Step 3: Loop over the top metro FIPS codes to find adjacent counties up to level 5\n",
    "for fips in top_metro_fips:\n",
    "    current_level = [fips]\n",
    "    visited = set(current_level)  # To track visited counties and prevent duplicates\n",
    "    results.append({\n",
    "                        'county_fips': fips,\n",
    "                        'neighbour_level': 0,\n",
    "                        'neighbour_county_fips': fips\n",
    "                    })\n",
    "    for level in range(1, 6):  # Levels 1 to 5\n",
    "        next_level = []\n",
    "        for county in current_level:\n",
    "            # Get adjacent counties from the graph\n",
    "            neighbors = graph.get_neighbors(county)\n",
    "            \n",
    "            for neighbor in neighbors:\n",
    "                if neighbor not in visited:\n",
    "                    visited.add(neighbor)  # Mark as visited\n",
    "                    next_level.append(neighbor)  # Add to the next level\n",
    "                    # Append the result to the results list\n",
    "                    results.append({\n",
    "                        'county_fips': fips,\n",
    "                        'neighbour_level': level,\n",
    "                        'neighbour_county_fips': neighbor\n",
    "                    })\n",
    "        \n",
    "        current_level = next_level  # Move to the next level"
   ]
  },
  {
   "cell_type": "code",
   "execution_count": 7,
   "metadata": {},
   "outputs": [],
   "source": [
    "# Step 4: Create a DataFrame from the results\n",
    "adjacency_df = pd.DataFrame(results)\n",
    "county_info = county_clean_df[['COUNTY_FIPS_CODE', 'STATE_NAME', 'COUNTY_NAME', 'TOP_METRO']]\n",
    "\n",
    "adjacency_df = adjacency_df.merge(county_info, \n",
    "                                   left_on='county_fips', \n",
    "                                   right_on='COUNTY_FIPS_CODE', \n",
    "                                   how='left')\n",
    "adjacency_df.rename(columns={\n",
    "    'STATE_NAME': 'state_name',\n",
    "    'COUNTY_NAME': 'county_name',\n",
    "    'TOP_METRO': 'top_metro'\n",
    "}, inplace=True)\n",
    "\n",
    "adjacency_df.drop(columns=['COUNTY_FIPS_CODE'], inplace=True)\n",
    "\n",
    "adjacency_df = adjacency_df.merge(county_info, \n",
    "                                   left_on='neighbour_county_fips', \n",
    "                                   right_on='COUNTY_FIPS_CODE', \n",
    "                                   how='left')\n",
    "\n",
    "adjacency_df.rename(columns={\n",
    "    'STATE_NAME': 'neighbour_state_name',\n",
    "    'COUNTY_NAME': 'neighbour_county_name',\n",
    "    'TOP_METRO': 'neighbour_top_metro'\n",
    "}, inplace=True)\n",
    "\n",
    "adjacency_df.drop(columns=['COUNTY_FIPS_CODE'], inplace=True)\n",
    "adjacency_df = adjacency_df[['county_fips', 'county_name', 'state_name', 'top_metro', 'neighbour_level', 'neighbour_county_fips', 'neighbour_county_name', 'neighbour_state_name', 'neighbour_top_metro']]"
   ]
  },
  {
   "cell_type": "code",
   "execution_count": 8,
   "metadata": {},
   "outputs": [],
   "source": [
    "adjacency_df.to_excel('./Tableau/Datasources/adjacency_df.xlsx')\n",
    "county_clean_df.to_excel('./Input_Data/county_clean_df.xlsx')"
   ]
  }
 ],
 "metadata": {
  "kernelspec": {
   "display_name": "dva-project",
   "language": "python",
   "name": "python3"
  },
  "language_info": {
   "codemirror_mode": {
    "name": "ipython",
    "version": 3
   },
   "file_extension": ".py",
   "mimetype": "text/x-python",
   "name": "python",
   "nbconvert_exporter": "python",
   "pygments_lexer": "ipython3",
   "version": "3.11.9"
  }
 },
 "nbformat": 4,
 "nbformat_minor": 2
}
